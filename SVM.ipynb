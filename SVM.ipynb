{
 "cells": [
  {
   "cell_type": "markdown",
   "id": "0d491ac2-4f43-48ee-a57b-14700327a298",
   "metadata": {},
   "source": [
    "# SVM - SPAM"
   ]
  },
  {
   "cell_type": "markdown",
   "id": "f0d10f8c-a615-48cf-8413-6097c0c87b79",
   "metadata": {},
   "source": [
    "## Data Description:\n",
    "\n",
    "The dataset is taken from the UCI machine learning repository. Most features in the dataset represent count of certain words, denoted by names such as word_frequency_meeting, word_frequency_free etc. Some other features represent features typical of spam emails, such as the maximum length of 'all uppercase words' ('FREE OFFER'), the frequency of non-alphanumeric characters ('!!!!') etc."
   ]
  },
  {
   "cell_type": "markdown",
   "id": "ed949f74-1a8d-445f-949b-473c423d3f6a",
   "metadata": {},
   "source": [
    "## Step 1: Importing the required libraries:"
   ]
  },
  {
   "cell_type": "code",
   "execution_count": 262,
   "id": "64d7eb73-fd5b-475a-a172-271fe9de2957",
   "metadata": {},
   "outputs": [],
   "source": [
    "import numpy as np\n",
    "import pandas as pd\n",
    "import seaborn as sns\n",
    "import matplotlib.pyplot as plt\n",
    "\n",
    "from sklearn.model_selection import train_test_split, KFold, cross_val_score, GridSearchCV\n",
    "from sklearn.preprocessing import StandardScaler\n",
    "\n",
    "from sklearn.svm import SVC\n",
    "\n",
    "from sklearn import metrics\n",
    "from sklearn.metrics import accuracy_score, precision_score, recall_score, confusion_matrix, ConfusionMatrixDisplay, classification_report\n",
    "\n",
    "import warnings\n",
    "warnings.filterwarnings('ignore')"
   ]
  },
  {
   "cell_type": "code",
   "execution_count": 264,
   "id": "e8f9cd29-6169-4f41-adac-f4ab6971d5c4",
   "metadata": {},
   "outputs": [
    {
     "data": {
      "text/html": [
       "<div>\n",
       "<style scoped>\n",
       "    .dataframe tbody tr th:only-of-type {\n",
       "        vertical-align: middle;\n",
       "    }\n",
       "\n",
       "    .dataframe tbody tr th {\n",
       "        vertical-align: top;\n",
       "    }\n",
       "\n",
       "    .dataframe thead th {\n",
       "        text-align: right;\n",
       "    }\n",
       "</style>\n",
       "<table border=\"1\" class=\"dataframe\">\n",
       "  <thead>\n",
       "    <tr style=\"text-align: right;\">\n",
       "      <th></th>\n",
       "      <th>word_freq_make</th>\n",
       "      <th>word_freq_address</th>\n",
       "      <th>word_freq_all</th>\n",
       "      <th>word_freq_3d</th>\n",
       "      <th>word_freq_our</th>\n",
       "      <th>word_freq_over</th>\n",
       "      <th>word_freq_remove</th>\n",
       "      <th>word_freq_internet</th>\n",
       "      <th>word_freq_order</th>\n",
       "      <th>word_freq_mail</th>\n",
       "      <th>...</th>\n",
       "      <th>char_freq_;</th>\n",
       "      <th>char_freq_(</th>\n",
       "      <th>char_freq_[</th>\n",
       "      <th>char_freq_!</th>\n",
       "      <th>char_freq_$</th>\n",
       "      <th>char_freq_hash</th>\n",
       "      <th>capital_run_length_average</th>\n",
       "      <th>capital_run_length_longest</th>\n",
       "      <th>capital_run_length_total</th>\n",
       "      <th>spam</th>\n",
       "    </tr>\n",
       "  </thead>\n",
       "  <tbody>\n",
       "    <tr>\n",
       "      <th>0</th>\n",
       "      <td>0.00</td>\n",
       "      <td>0.64</td>\n",
       "      <td>0.64</td>\n",
       "      <td>0.0</td>\n",
       "      <td>0.32</td>\n",
       "      <td>0.00</td>\n",
       "      <td>0.00</td>\n",
       "      <td>0.00</td>\n",
       "      <td>0.00</td>\n",
       "      <td>0.00</td>\n",
       "      <td>...</td>\n",
       "      <td>0.00</td>\n",
       "      <td>0.000</td>\n",
       "      <td>0.0</td>\n",
       "      <td>0.778</td>\n",
       "      <td>0.000</td>\n",
       "      <td>0.000</td>\n",
       "      <td>3.756</td>\n",
       "      <td>61</td>\n",
       "      <td>278</td>\n",
       "      <td>1</td>\n",
       "    </tr>\n",
       "    <tr>\n",
       "      <th>1</th>\n",
       "      <td>0.21</td>\n",
       "      <td>0.28</td>\n",
       "      <td>0.50</td>\n",
       "      <td>0.0</td>\n",
       "      <td>0.14</td>\n",
       "      <td>0.28</td>\n",
       "      <td>0.21</td>\n",
       "      <td>0.07</td>\n",
       "      <td>0.00</td>\n",
       "      <td>0.94</td>\n",
       "      <td>...</td>\n",
       "      <td>0.00</td>\n",
       "      <td>0.132</td>\n",
       "      <td>0.0</td>\n",
       "      <td>0.372</td>\n",
       "      <td>0.180</td>\n",
       "      <td>0.048</td>\n",
       "      <td>5.114</td>\n",
       "      <td>101</td>\n",
       "      <td>1028</td>\n",
       "      <td>1</td>\n",
       "    </tr>\n",
       "    <tr>\n",
       "      <th>2</th>\n",
       "      <td>0.06</td>\n",
       "      <td>0.00</td>\n",
       "      <td>0.71</td>\n",
       "      <td>0.0</td>\n",
       "      <td>1.23</td>\n",
       "      <td>0.19</td>\n",
       "      <td>0.19</td>\n",
       "      <td>0.12</td>\n",
       "      <td>0.64</td>\n",
       "      <td>0.25</td>\n",
       "      <td>...</td>\n",
       "      <td>0.01</td>\n",
       "      <td>0.143</td>\n",
       "      <td>0.0</td>\n",
       "      <td>0.276</td>\n",
       "      <td>0.184</td>\n",
       "      <td>0.010</td>\n",
       "      <td>9.821</td>\n",
       "      <td>485</td>\n",
       "      <td>2259</td>\n",
       "      <td>1</td>\n",
       "    </tr>\n",
       "    <tr>\n",
       "      <th>3</th>\n",
       "      <td>0.00</td>\n",
       "      <td>0.00</td>\n",
       "      <td>0.00</td>\n",
       "      <td>0.0</td>\n",
       "      <td>0.63</td>\n",
       "      <td>0.00</td>\n",
       "      <td>0.31</td>\n",
       "      <td>0.63</td>\n",
       "      <td>0.31</td>\n",
       "      <td>0.63</td>\n",
       "      <td>...</td>\n",
       "      <td>0.00</td>\n",
       "      <td>0.137</td>\n",
       "      <td>0.0</td>\n",
       "      <td>0.137</td>\n",
       "      <td>0.000</td>\n",
       "      <td>0.000</td>\n",
       "      <td>3.537</td>\n",
       "      <td>40</td>\n",
       "      <td>191</td>\n",
       "      <td>1</td>\n",
       "    </tr>\n",
       "    <tr>\n",
       "      <th>4</th>\n",
       "      <td>0.00</td>\n",
       "      <td>0.00</td>\n",
       "      <td>0.00</td>\n",
       "      <td>0.0</td>\n",
       "      <td>0.63</td>\n",
       "      <td>0.00</td>\n",
       "      <td>0.31</td>\n",
       "      <td>0.63</td>\n",
       "      <td>0.31</td>\n",
       "      <td>0.63</td>\n",
       "      <td>...</td>\n",
       "      <td>0.00</td>\n",
       "      <td>0.135</td>\n",
       "      <td>0.0</td>\n",
       "      <td>0.135</td>\n",
       "      <td>0.000</td>\n",
       "      <td>0.000</td>\n",
       "      <td>3.537</td>\n",
       "      <td>40</td>\n",
       "      <td>191</td>\n",
       "      <td>1</td>\n",
       "    </tr>\n",
       "  </tbody>\n",
       "</table>\n",
       "<p>5 rows × 58 columns</p>\n",
       "</div>"
      ],
      "text/plain": [
       "   word_freq_make  word_freq_address  word_freq_all  word_freq_3d  \\\n",
       "0            0.00               0.64           0.64           0.0   \n",
       "1            0.21               0.28           0.50           0.0   \n",
       "2            0.06               0.00           0.71           0.0   \n",
       "3            0.00               0.00           0.00           0.0   \n",
       "4            0.00               0.00           0.00           0.0   \n",
       "\n",
       "   word_freq_our  word_freq_over  word_freq_remove  word_freq_internet  \\\n",
       "0           0.32            0.00              0.00                0.00   \n",
       "1           0.14            0.28              0.21                0.07   \n",
       "2           1.23            0.19              0.19                0.12   \n",
       "3           0.63            0.00              0.31                0.63   \n",
       "4           0.63            0.00              0.31                0.63   \n",
       "\n",
       "   word_freq_order  word_freq_mail  ...  char_freq_;  char_freq_(  \\\n",
       "0             0.00            0.00  ...         0.00        0.000   \n",
       "1             0.00            0.94  ...         0.00        0.132   \n",
       "2             0.64            0.25  ...         0.01        0.143   \n",
       "3             0.31            0.63  ...         0.00        0.137   \n",
       "4             0.31            0.63  ...         0.00        0.135   \n",
       "\n",
       "   char_freq_[  char_freq_!  char_freq_$  char_freq_hash  \\\n",
       "0          0.0        0.778        0.000           0.000   \n",
       "1          0.0        0.372        0.180           0.048   \n",
       "2          0.0        0.276        0.184           0.010   \n",
       "3          0.0        0.137        0.000           0.000   \n",
       "4          0.0        0.135        0.000           0.000   \n",
       "\n",
       "   capital_run_length_average  capital_run_length_longest  \\\n",
       "0                       3.756                          61   \n",
       "1                       5.114                         101   \n",
       "2                       9.821                         485   \n",
       "3                       3.537                          40   \n",
       "4                       3.537                          40   \n",
       "\n",
       "   capital_run_length_total  spam  \n",
       "0                       278     1  \n",
       "1                      1028     1  \n",
       "2                      2259     1  \n",
       "3                       191     1  \n",
       "4                       191     1  \n",
       "\n",
       "[5 rows x 58 columns]"
      ]
     },
     "execution_count": 264,
     "metadata": {},
     "output_type": "execute_result"
    }
   ],
   "source": [
    "df = pd.read_csv('Spam.csv')\n",
    "df.head()"
   ]
  },
  {
   "cell_type": "code",
   "execution_count": 266,
   "id": "56f0d143-468d-45d8-b008-9d7f93ceaeb3",
   "metadata": {},
   "outputs": [
    {
     "data": {
      "text/plain": [
       "(4601, 58)"
      ]
     },
     "execution_count": 266,
     "metadata": {},
     "output_type": "execute_result"
    }
   ],
   "source": [
    "df.shape"
   ]
  },
  {
   "cell_type": "code",
   "execution_count": 268,
   "id": "02e64801-6002-452f-b4b0-b633f10b811c",
   "metadata": {},
   "outputs": [
    {
     "name": "stdout",
     "output_type": "stream",
     "text": [
      "<class 'pandas.core.frame.DataFrame'>\n",
      "RangeIndex: 4601 entries, 0 to 4600\n",
      "Data columns (total 58 columns):\n",
      " #   Column                      Non-Null Count  Dtype  \n",
      "---  ------                      --------------  -----  \n",
      " 0   word_freq_make              4601 non-null   float64\n",
      " 1   word_freq_address           4601 non-null   float64\n",
      " 2   word_freq_all               4601 non-null   float64\n",
      " 3   word_freq_3d                4601 non-null   float64\n",
      " 4   word_freq_our               4601 non-null   float64\n",
      " 5   word_freq_over              4601 non-null   float64\n",
      " 6   word_freq_remove            4601 non-null   float64\n",
      " 7   word_freq_internet          4601 non-null   float64\n",
      " 8   word_freq_order             4601 non-null   float64\n",
      " 9   word_freq_mail              4601 non-null   float64\n",
      " 10  word_freq_receive           4601 non-null   float64\n",
      " 11  word_freq_will              4601 non-null   float64\n",
      " 12  word_freq_people            4601 non-null   float64\n",
      " 13  word_freq_report            4601 non-null   float64\n",
      " 14  word_freq_addresses         4601 non-null   float64\n",
      " 15  word_freq_free              4601 non-null   float64\n",
      " 16  word_freq_business          4601 non-null   float64\n",
      " 17  word_freq_email             4601 non-null   float64\n",
      " 18  word_freq_you               4601 non-null   float64\n",
      " 19  word_freq_credit            4601 non-null   float64\n",
      " 20  word_freq_your              4601 non-null   float64\n",
      " 21  word_freq_font              4601 non-null   float64\n",
      " 22  word_freq_000               4601 non-null   float64\n",
      " 23  word_freq_money             4601 non-null   float64\n",
      " 24  word_freq_hp                4601 non-null   float64\n",
      " 25  word_freq_hpl               4601 non-null   float64\n",
      " 26  word_freq_george            4601 non-null   float64\n",
      " 27  word_freq_650               4601 non-null   float64\n",
      " 28  word_freq_lab               4601 non-null   float64\n",
      " 29  word_freq_labs              4601 non-null   float64\n",
      " 30  word_freq_telnet            4601 non-null   float64\n",
      " 31  word_freq_857               4601 non-null   float64\n",
      " 32  word_freq_data              4601 non-null   float64\n",
      " 33  word_freq_415               4601 non-null   float64\n",
      " 34  word_freq_85                4601 non-null   float64\n",
      " 35  word_freq_technology        4601 non-null   float64\n",
      " 36  word_freq_1999              4601 non-null   float64\n",
      " 37  word_freq_parts             4601 non-null   float64\n",
      " 38  word_freq_pm                4601 non-null   float64\n",
      " 39  word_freq_direct            4601 non-null   float64\n",
      " 40  word_freq_cs                4601 non-null   float64\n",
      " 41  word_freq_meeting           4601 non-null   float64\n",
      " 42  word_freq_original          4601 non-null   float64\n",
      " 43  word_freq_project           4601 non-null   float64\n",
      " 44  word_freq_re                4601 non-null   float64\n",
      " 45  word_freq_edu               4601 non-null   float64\n",
      " 46  word_freq_table             4601 non-null   float64\n",
      " 47  word_freq_conference        4601 non-null   float64\n",
      " 48  char_freq_;                 4601 non-null   float64\n",
      " 49  char_freq_(                 4601 non-null   float64\n",
      " 50  char_freq_[                 4601 non-null   float64\n",
      " 51  char_freq_!                 4601 non-null   float64\n",
      " 52  char_freq_$                 4601 non-null   float64\n",
      " 53  char_freq_hash              4601 non-null   float64\n",
      " 54  capital_run_length_average  4601 non-null   float64\n",
      " 55  capital_run_length_longest  4601 non-null   int64  \n",
      " 56  capital_run_length_total    4601 non-null   int64  \n",
      " 57  spam                        4601 non-null   int64  \n",
      "dtypes: float64(55), int64(3)\n",
      "memory usage: 2.0 MB\n"
     ]
    }
   ],
   "source": [
    "df.info()"
   ]
  },
  {
   "cell_type": "code",
   "execution_count": 270,
   "id": "a2887734-5e31-4457-9e97-fde89a3134c4",
   "metadata": {},
   "outputs": [
    {
     "data": {
      "text/plain": [
       "False"
      ]
     },
     "execution_count": 270,
     "metadata": {},
     "output_type": "execute_result"
    }
   ],
   "source": [
    "df.isnull().sum().any()"
   ]
  },
  {
   "cell_type": "code",
   "execution_count": 272,
   "id": "185b7846-95d8-4888-bd85-5ec8f192ad3a",
   "metadata": {},
   "outputs": [
    {
     "data": {
      "text/plain": [
       "spam\n",
       "0    2788\n",
       "1    1813\n",
       "Name: count, dtype: int64"
      ]
     },
     "execution_count": 272,
     "metadata": {},
     "output_type": "execute_result"
    }
   ],
   "source": [
    "df.spam.value_counts()"
   ]
  },
  {
   "cell_type": "code",
   "execution_count": 274,
   "id": "65e8b5dc-b392-4a07-9e99-d8bd5dc80c06",
   "metadata": {},
   "outputs": [
    {
     "data": {
      "text/plain": [
       "39.404477287546186"
      ]
     },
     "execution_count": 274,
     "metadata": {},
     "output_type": "execute_result"
    }
   ],
   "source": [
    "100*df.spam.value_counts()[1]/len(df)"
   ]
  },
  {
   "cell_type": "markdown",
   "id": "a9d98fb3-685b-4f10-aff7-2b167255c690",
   "metadata": {},
   "source": [
    "We have close to 40% of records that are labelled as spam."
   ]
  },
  {
   "cell_type": "markdown",
   "id": "9b49c3b1-54b2-4ab5-a0d4-751363673fe5",
   "metadata": {},
   "source": [
    "__NOTE:__ <br>\n",
    "SVM is sensitive to the scale of features. Since SVM relies on calculating distances between points (e.g., Euclidean distance), features on different scales can disproportionately affect the model."
   ]
  },
  {
   "cell_type": "markdown",
   "id": "77957e93-bc4f-4886-af63-e7a4d83da006",
   "metadata": {},
   "source": [
    "### Splitting the data into train and test sets:"
   ]
  },
  {
   "cell_type": "code",
   "execution_count": 279,
   "id": "021ba902-d4df-498c-a5c0-005598cbb2e4",
   "metadata": {},
   "outputs": [],
   "source": [
    "y = df.pop('spam')\n",
    "X = df"
   ]
  },
  {
   "cell_type": "code",
   "execution_count": 281,
   "id": "6fbc881d-0b33-4777-a4f6-40cdb2262d76",
   "metadata": {},
   "outputs": [],
   "source": [
    "Xtrain, Xtest, ytrain, ytest = train_test_split(X, y, train_size=0.7, random_state=42)"
   ]
  },
  {
   "cell_type": "code",
   "execution_count": 283,
   "id": "fb0b9842-1f64-42b9-a35c-3c7f47f23a2d",
   "metadata": {},
   "outputs": [
    {
     "name": "stdout",
     "output_type": "stream",
     "text": [
      "(3220, 57)\n",
      "(1381, 57)\n",
      "(3220,)\n",
      "(1381,)\n"
     ]
    }
   ],
   "source": [
    "print(Xtrain.shape)\n",
    "print(Xtest.shape)\n",
    "print(ytrain.shape)\n",
    "print(ytest.shape)"
   ]
  },
  {
   "cell_type": "markdown",
   "id": "6b605bb7-80fe-4994-9bc5-37809c5e0caf",
   "metadata": {},
   "source": [
    "### Scaling the variable using StandardScaler:"
   ]
  },
  {
   "cell_type": "code",
   "execution_count": 286,
   "id": "fa149707-4fc8-4568-9c2a-a20f5b9dcd7c",
   "metadata": {},
   "outputs": [],
   "source": [
    "scaler = StandardScaler()\n",
    "Xtrain = scaler.fit_transform(Xtrain)\n",
    "Xtest = scaler.transform(Xtest)"
   ]
  },
  {
   "cell_type": "markdown",
   "id": "5d883388-77d1-481d-8fcb-f2a3890ae64d",
   "metadata": {},
   "source": [
    "### Training and Evaluating the model:"
   ]
  },
  {
   "cell_type": "markdown",
   "id": "f85e0739-de34-404b-be35-4d93aae0bfca",
   "metadata": {},
   "source": [
    "1. __C__:<br>\n",
    "- Meaning: Regularization parameter. A smaller value of C creates a larger margin but may misclassify more points, while a larger C aims to classify all training points correctly. It controls the trade-off between maximizing the margin and minimizing classification error.\n",
    "\n",
    "2. __kernel__:\n",
    "\n",
    "Type: str, default='rbf' <br>\n",
    "- Meaning: Specifies the kernel type to be used. Common options include:\n",
    "    - __```linear```__: Linear kernel - Represents a linear decision boundary. It’s efficient for large datasets with many features and is suitable when the data is linearly separable.\n",
    "    - __```poly```__: Polynomial kernel - Can model non-linear relationships by transforming the input space into polynomial feature space. The degree of the polynomial controls the complexity of the decision boundary. __An additional Hyperparameter gets added here and thet is ```degree``` when we use polynomial kernel.\n",
    "    - __```rbf```__: Radial basis function (Gaussian) kernel (default) -  A non-linear kernel that can handle complex decision boundaries. The \n",
    "__𝛾 or γ (gamma)__ parameter controls the influence of individual training points; smaller values lead to smoother boundaries, while larger values create more complex boundaries.\n",
    "    - __```sigmoid```__: Sigmoid kernel - imilar to a neural network activation function. It can be used in cases where data can be approximated as a hyperbolic tangent function, but it’s less commonly used compared to other kernels.\n",
    "    "
   ]
  },
  {
   "cell_type": "code",
   "execution_count": 290,
   "id": "9dea221e-ecc9-4487-8d6c-8a48ec86faea",
   "metadata": {},
   "outputs": [],
   "source": [
    "svc = SVC(C=1) # C: trade-off between maximizing the marginal distance and minimizing the classification error\n",
    "\n",
    "svc.fit(Xtrain, ytrain)\n",
    "ypred_train = svc.predict(Xtrain)\n",
    "ypred_test = svc.predict(Xtest)"
   ]
  },
  {
   "cell_type": "markdown",
   "id": "70dcd3ef-8250-4bfd-b9e0-69d5f14fde48",
   "metadata": {},
   "source": [
    "#### Evaluating the performance of the model:"
   ]
  },
  {
   "cell_type": "code",
   "execution_count": 292,
   "id": "20a982f9-b52d-4f30-95ec-61dc12f679c0",
   "metadata": {},
   "outputs": [
    {
     "name": "stdout",
     "output_type": "stream",
     "text": [
      "              precision    recall  f1-score   support\n",
      "\n",
      "           0       0.93      0.97      0.95       804\n",
      "           1       0.95      0.89      0.92       577\n",
      "\n",
      "    accuracy                           0.93      1381\n",
      "   macro avg       0.94      0.93      0.93      1381\n",
      "weighted avg       0.94      0.93      0.93      1381\n",
      "\n"
     ]
    }
   ],
   "source": [
    "print(classification_report(ytest, ypred_test))"
   ]
  },
  {
   "cell_type": "code",
   "execution_count": 293,
   "id": "a69a3233-e549-4a66-a2fa-69dbddac6edb",
   "metadata": {},
   "outputs": [
    {
     "name": "stdout",
     "output_type": "stream",
     "text": [
      "Train Accuracy: 0.94.\n",
      "Test Accuracy: 0.93.\n",
      "Sensitivity/tpr/Recall: 0.89.\n",
      "Precision/ppv: 0.95.\n"
     ]
    }
   ],
   "source": [
    "print(f\"Train Accuracy: {round(accuracy_score(ytrain, ypred_train), 2)}.\")\n",
    "print(f\"Test Accuracy: {round(accuracy_score(ytest, ypred_test), 2)}.\")\n",
    "\n",
    "print(f\"Sensitivity/tpr/Recall: {round(recall_score(ytest, ypred_test), 2)}.\")\n",
    "print(f\"Precision/ppv: {round(precision_score(ytest, ypred_test), 2)}.\")"
   ]
  },
  {
   "cell_type": "code",
   "execution_count": 294,
   "id": "808635b3-4090-4c0a-8304-ca1a52cfdbcf",
   "metadata": {},
   "outputs": [
    {
     "data": {
      "text/plain": [
       "<sklearn.metrics._plot.confusion_matrix.ConfusionMatrixDisplay at 0x2e5423f4b90>"
      ]
     },
     "execution_count": 294,
     "metadata": {},
     "output_type": "execute_result"
    },
    {
     "data": {
      "image/png": "[encoded data removed]",
      "text/plain": [
       "<Figure size 640x480 with 2 Axes>"
      ]
     },
     "metadata": {},
     "output_type": "display_data"
    }
   ],
   "source": [
    "cm = metrics.confusion_matrix(ytest, ypred_test)\n",
    "ConfusionMatrixDisplay(cm).plot()"
   ]
  },
  {
   "cell_type": "code",
   "execution_count": 295,
   "id": "3354397b-5673-4ad0-8266-c8c512340bf0",
   "metadata": {},
   "outputs": [],
   "source": [
    "TN, TP, FN, FP = cm[0,0], cm[1,1], cm[1,0], cm[0,1]"
   ]
  },
  {
   "cell_type": "code",
   "execution_count": 296,
   "id": "5215eac4-3dc0-4293-803b-d5d82c8e755f",
   "metadata": {},
   "outputs": [
    {
     "data": {
      "text/plain": [
       "0.965"
      ]
     },
     "execution_count": 296,
     "metadata": {},
     "output_type": "execute_result"
    }
   ],
   "source": [
    "specificity = round(TN/(TN+FP), 3)\n",
    "specificity"
   ]
  },
  {
   "cell_type": "code",
   "execution_count": 297,
   "id": "cbf9e606-3e5f-4a73-8882-5354c87e507b",
   "metadata": {},
   "outputs": [
    {
     "name": "stdout",
     "output_type": "stream",
     "text": [
      "Train Accuracy: 0.942.\n",
      "Test Accuracy: 0.935.\n",
      "\n",
      "\n",
      "Sensitivity/tpr/Recall: 0.893.\n",
      "Specificity/tnr: 0.965\n",
      "Precision/ppv: 0.948.\n"
     ]
    }
   ],
   "source": [
    "print(f\"Train Accuracy: {round(accuracy_score(ytrain, ypred_train), 3)}.\")\n",
    "print(f\"Test Accuracy: {round(accuracy_score(ytest, ypred_test), 3)}.\")\n",
    "print('\\n')\n",
    "print(f\"Sensitivity/tpr/Recall: {round(recall_score(ytest, ypred_test), 3)}.\")\n",
    "print(f\"Specificity/tnr: {specificity}\")\n",
    "print(f\"Precision/ppv: {round(precision_score(ytest, ypred_test), 3)}.\")"
   ]
  },
  {
   "cell_type": "markdown",
   "id": "2eb8bb5f-c123-4873-9266-02a228dca82f",
   "metadata": {},
   "source": [
    "The SVM we have built so far gives decently good results - an accuracy of 93.5%, sensitivity/recall (TNR) of 89.3%.\r\n"
   ]
  },
  {
   "cell_type": "markdown",
   "id": "8bc7bffe-6122-45c5-89fc-a71ff2b4b9c0",
   "metadata": {},
   "source": [
    "We don't want a genuine/ham email(0) to be predicted as spam(1) by our model.\n",
    "\n",
    "So we are concerned about False Positives and wherefore we can focus on increasing the **Precision** and **Specificity**."
   ]
  },
  {
   "cell_type": "markdown",
   "id": "5b1d83d4-f896-46c5-ae87-66b544d3be75",
   "metadata": {},
   "source": [
    "## Hyperparameter Tuning:"
   ]
  },
  {
   "cell_type": "markdown",
   "id": "cd50d841-1189-4a79-a73a-24bb62301245",
   "metadata": {},
   "source": [
    "### K-Fold Cross Validation:\n",
    "\n",
    "Let's first run a simple k-fold cv to get a sense of average metric as compared over multiple folds."
   ]
  },
  {
   "cell_type": "code",
   "execution_count": 305,
   "id": "3c712176-063f-4c74-abde-e7c321a74cd0",
   "metadata": {},
   "outputs": [
    {
     "name": "stdout",
     "output_type": "stream",
     "text": [
      "CV Results: [0.91770186 0.92546584 0.92701863 0.93167702 0.92857143]\n",
      "Mean Accuracy Score: 0.9260869565217391\n"
     ]
    }
   ],
   "source": [
    "# instantiating a model with cost=1\n",
    "model_1= SVC(C=1)\n",
    "\n",
    "# creating a KFold object with 5 splits \n",
    "folds = KFold(n_splits=5, shuffle=True, random_state=42)\n",
    "\n",
    "# computing the cross-validation scores \n",
    "# note that the argument cv takes the 'folds' object, and\n",
    "# we have specified 'accuracy' as the metric\n",
    "cv_results = cross_val_score(estimator=model_1, X=Xtrain, y=ytrain, scoring='accuracy', n_jobs=-1)\n",
    "\n",
    "print(f\"CV Results: {cv_results}\")\n",
    "print(f\"Mean Accuracy Score: {cv_results.mean()}\")"
   ]
  },
  {
   "cell_type": "markdown",
   "id": "f9b0cf07-686d-491d-afb5-c00c8fc288c8",
   "metadata": {},
   "source": [
    "### Grid Search to Find Optimal Hyperparameter C:\n",
    "\n",
    "K-fold CV helps us compute average metrics over multiple folds, and that is the best indication of the 'test accuracy/other metric scores' we can have.\r\n",
    "\r",
    "uutut we want to use CV to compute the optimal values of hyperparameters (in this case, the cost C is a hyperparameter). This is done using the GridSearchCV() method, which computes metrics (such as accuracy, recall etc.)\r\n",
    "\r\n",
    "In this case, we have only one hyperparameter, thowe you can have multiple, such as C and gamma in non-linear SVMs. In that cawe you need to search through a grid of multiple values of C and gamma to find the optimal combination, and hence the name GridSearchCV.\n"
   ]
  },
  {
   "cell_type": "code",
   "execution_count": 307,
   "id": "b3df8441-391b-42ac-80cf-f19d3b5f25cb",
   "metadata": {},
   "outputs": [
    {
     "name": "stdout",
     "output_type": "stream",
     "text": [
      "Fitting 5 folds for each of 10 candidates, totalling 50 fits\n"
     ]
    },
    {
     "data": {
      "text/html": [
       "<style>#sk-container-id-6 {\n",
       "  /* Definition of color scheme common for light and dark mode */\n",
       "  --sklearn-color-text: black;\n",
       "  --sklearn-color-line: gray;\n",
       "  /* Definition of color scheme for unfitted estimators */\n",
       "  --sklearn-color-unfitted-level-0: #fff5e6;\n",
       "  --sklearn-color-unfitted-level-1: #f6e4d2;\n",
       "  --sklearn-color-unfitted-level-2: #ffe0b3;\n",
       "  --sklearn-color-unfitted-level-3: chocolate;\n",
       "  /* Definition of color scheme for fitted estimators */\n",
       "  --sklearn-color-fitted-level-0: #f0f8ff;\n",
       "  --sklearn-color-fitted-level-1: #d4ebff;\n",
       "  --sklearn-color-fitted-level-2: #b3dbfd;\n",
       "  --sklearn-color-fitted-level-3: cornflowerblue;\n",
       "\n",
       "  /* Specific color for light theme */\n",
       "  --sklearn-color-text-on-default-background: var(--sg-text-color, var(--theme-code-foreground, var(--jp-content-font-color1, black)));\n",
       "  --sklearn-color-background: var(--sg-background-color, var(--theme-background, var(--jp-layout-color0, white)));\n",
       "  --sklearn-color-border-box: var(--sg-text-color, var(--theme-code-foreground, var(--jp-content-font-color1, black)));\n",
       "  --sklearn-color-icon: #696969;\n",
       "\n",
       "  @media (prefers-color-scheme: dark) {\n",
       "    /* Redefinition of color scheme for dark theme */\n",
       "    --sklearn-color-text-on-default-background: var(--sg-text-color, var(--theme-code-foreground, var(--jp-content-font-color1, white)));\n",
       "    --sklearn-color-background: var(--sg-background-color, var(--theme-background, var(--jp-layout-color0, #111)));\n",
       "    --sklearn-color-border-box: var(--sg-text-color, var(--theme-code-foreground, var(--jp-content-font-color1, white)));\n",
       "    --sklearn-color-icon: #878787;\n",
       "  }\n",
       "}\n",
       "\n",
       "#sk-container-id-6 {\n",
       "  color: var(--sklearn-color-text);\n",
       "}\n",
       "\n",
       "#sk-container-id-6 pre {\n",
       "  padding: 0;\n",
       "}\n",
       "\n",
       "#sk-container-id-6 input.sk-hidden--visually {\n",
       "  border: 0;\n",
       "  clip: rect(1px 1px 1px 1px);\n",
       "  clip: rect(1px, 1px, 1px, 1px);\n",
       "  height: 1px;\n",
       "  margin: -1px;\n",
       "  overflow: hidden;\n",
       "  padding: 0;\n",
       "  position: absolute;\n",
       "  width: 1px;\n",
       "}\n",
       "\n",
       "#sk-container-id-6 div.sk-dashed-wrapped {\n",
       "  border: 1px dashed var(--sklearn-color-line);\n",
       "  margin: 0 0.4em 0.5em 0.4em;\n",
       "  box-sizing: border-box;\n",
       "  padding-bottom: 0.4em;\n",
       "  background-color: var(--sklearn-color-background);\n",
       "}\n",
       "\n",
       "#sk-container-id-6 div.sk-container {\n",
       "  /* jupyter's `normalize.less` sets `[hidden] { display: none; }`\n",
       "     but bootstrap.min.css set `[hidden] { display: none !important; }`\n",
       "     so we also need the `!important` here to be able to override the\n",
       "     default hidden behavior on the sphinx rendered scikit-learn.org.\n",
       "     See: https://github.com/scikit-learn/scikit-learn/issues/21755 */\n",
       "  display: inline-block !important;\n",
       "  position: relative;\n",
       "}\n",
       "\n",
       "#sk-container-id-6 div.sk-text-repr-fallback {\n",
       "  display: none;\n",
       "}\n",
       "\n",
       "div.sk-parallel-item,\n",
       "div.sk-serial,\n",
       "div.sk-item {\n",
       "  /* draw centered vertical line to link estimators */\n",
       "  background-image: linear-gradient(var(--sklearn-color-text-on-default-background), var(--sklearn-color-text-on-default-background));\n",
       "  background-size: 2px 100%;\n",
       "  background-repeat: no-repeat;\n",
       "  background-position: center center;\n",
       "}\n",
       "\n",
       "/* Parallel-specific style estimator block */\n",
       "\n",
       "#sk-container-id-6 div.sk-parallel-item::after {\n",
       "  content: \"\";\n",
       "  width: 100%;\n",
       "  border-bottom: 2px solid var(--sklearn-color-text-on-default-background);\n",
       "  flex-grow: 1;\n",
       "}\n",
       "\n",
       "#sk-container-id-6 div.sk-parallel {\n",
       "  display: flex;\n",
       "  align-items: stretch;\n",
       "  justify-content: center;\n",
       "  background-color: var(--sklearn-color-background);\n",
       "  position: relative;\n",
       "}\n",
       "\n",
       "#sk-container-id-6 div.sk-parallel-item {\n",
       "  display: flex;\n",
       "  flex-direction: column;\n",
       "}\n",
       "\n",
       "#sk-container-id-6 div.sk-parallel-item:first-child::after {\n",
       "  align-self: flex-end;\n",
       "  width: 50%;\n",
       "}\n",
       "\n",
       "#sk-container-id-6 div.sk-parallel-item:last-child::after {\n",
       "  align-self: flex-start;\n",
       "  width: 50%;\n",
       "}\n",
       "\n",
       "#sk-container-id-6 div.sk-parallel-item:only-child::after {\n",
       "  width: 0;\n",
       "}\n",
       "\n",
       "/* Serial-specific style estimator block */\n",
       "\n",
       "#sk-container-id-6 div.sk-serial {\n",
       "  display: flex;\n",
       "  flex-direction: column;\n",
       "  align-items: center;\n",
       "  background-color: var(--sklearn-color-background);\n",
       "  padding-right: 1em;\n",
       "  padding-left: 1em;\n",
       "}\n",
       "\n",
       "\n",
       "/* Toggleable style: style used for estimator/Pipeline/ColumnTransformer box that is\n",
       "clickable and can be expanded/collapsed.\n",
       "- Pipeline and ColumnTransformer use this feature and define the default style\n",
       "- Estimators will overwrite some part of the style using the `sk-estimator` class\n",
       "*/\n",
       "\n",
       "/* Pipeline and ColumnTransformer style (default) */\n",
       "\n",
       "#sk-container-id-6 div.sk-toggleable {\n",
       "  /* Default theme specific background. It is overwritten whether we have a\n",
       "  specific estimator or a Pipeline/ColumnTransformer */\n",
       "  background-color: var(--sklearn-color-background);\n",
       "}\n",
       "\n",
       "/* Toggleable label */\n",
       "#sk-container-id-6 label.sk-toggleable__label {\n",
       "  cursor: pointer;\n",
       "  display: block;\n",
       "  width: 100%;\n",
       "  margin-bottom: 0;\n",
       "  padding: 0.5em;\n",
       "  box-sizing: border-box;\n",
       "  text-align: center;\n",
       "}\n",
       "\n",
       "#sk-container-id-6 label.sk-toggleable__label-arrow:before {\n",
       "  /* Arrow on the left of the label */\n",
       "  content: \"▸\";\n",
       "  float: left;\n",
       "  margin-right: 0.25em;\n",
       "  color: var(--sklearn-color-icon);\n",
       "}\n",
       "\n",
       "#sk-container-id-6 label.sk-toggleable__label-arrow:hover:before {\n",
       "  color: var(--sklearn-color-text);\n",
       "}\n",
       "\n",
       "/* Toggleable content - dropdown */\n",
       "\n",
       "#sk-container-id-6 div.sk-toggleable__content {\n",
       "  max-height: 0;\n",
       "  max-width: 0;\n",
       "  overflow: hidden;\n",
       "  text-align: left;\n",
       "  /* unfitted */\n",
       "  background-color: var(--sklearn-color-unfitted-level-0);\n",
       "}\n",
       "\n",
       "#sk-container-id-6 div.sk-toggleable__content.fitted {\n",
       "  /* fitted */\n",
       "  background-color: var(--sklearn-color-fitted-level-0);\n",
       "}\n",
       "\n",
       "#sk-container-id-6 div.sk-toggleable__content pre {\n",
       "  margin: 0.2em;\n",
       "  border-radius: 0.25em;\n",
       "  color: var(--sklearn-color-text);\n",
       "  /* unfitted */\n",
       "  background-color: var(--sklearn-color-unfitted-level-0);\n",
       "}\n",
       "\n",
       "#sk-container-id-6 div.sk-toggleable__content.fitted pre {\n",
       "  /* unfitted */\n",
       "  background-color: var(--sklearn-color-fitted-level-0);\n",
       "}\n",
       "\n",
       "#sk-container-id-6 input.sk-toggleable__control:checked~div.sk-toggleable__content {\n",
       "  /* Expand drop-down */\n",
       "  max-height: 200px;\n",
       "  max-width: 100%;\n",
       "  overflow: auto;\n",
       "}\n",
       "\n",
       "#sk-container-id-6 input.sk-toggleable__control:checked~label.sk-toggleable__label-arrow:before {\n",
       "  content: \"▾\";\n",
       "}\n",
       "\n",
       "/* Pipeline/ColumnTransformer-specific style */\n",
       "\n",
       "#sk-container-id-6 div.sk-label input.sk-toggleable__control:checked~label.sk-toggleable__label {\n",
       "  color: var(--sklearn-color-text);\n",
       "  background-color: var(--sklearn-color-unfitted-level-2);\n",
       "}\n",
       "\n",
       "#sk-container-id-6 div.sk-label.fitted input.sk-toggleable__control:checked~label.sk-toggleable__label {\n",
       "  background-color: var(--sklearn-color-fitted-level-2);\n",
       "}\n",
       "\n",
       "/* Estimator-specific style */\n",
       "\n",
       "/* Colorize estimator box */\n",
       "#sk-container-id-6 div.sk-estimator input.sk-toggleable__control:checked~label.sk-toggleable__label {\n",
       "  /* unfitted */\n",
       "  background-color: var(--sklearn-color-unfitted-level-2);\n",
       "}\n",
       "\n",
       "#sk-container-id-6 div.sk-estimator.fitted input.sk-toggleable__control:checked~label.sk-toggleable__label {\n",
       "  /* fitted */\n",
       "  background-color: var(--sklearn-color-fitted-level-2);\n",
       "}\n",
       "\n",
       "#sk-container-id-6 div.sk-label label.sk-toggleable__label,\n",
       "#sk-container-id-6 div.sk-label label {\n",
       "  /* The background is the default theme color */\n",
       "  color: var(--sklearn-color-text-on-default-background);\n",
       "}\n",
       "\n",
       "/* On hover, darken the color of the background */\n",
       "#sk-container-id-6 div.sk-label:hover label.sk-toggleable__label {\n",
       "  color: var(--sklearn-color-text);\n",
       "  background-color: var(--sklearn-color-unfitted-level-2);\n",
       "}\n",
       "\n",
       "/* Label box, darken color on hover, fitted */\n",
       "#sk-container-id-6 div.sk-label.fitted:hover label.sk-toggleable__label.fitted {\n",
       "  color: var(--sklearn-color-text);\n",
       "  background-color: var(--sklearn-color-fitted-level-2);\n",
       "}\n",
       "\n",
       "/* Estimator label */\n",
       "\n",
       "#sk-container-id-6 div.sk-label label {\n",
       "  font-family: monospace;\n",
       "  font-weight: bold;\n",
       "  display: inline-block;\n",
       "  line-height: 1.2em;\n",
       "}\n",
       "\n",
       "#sk-container-id-6 div.sk-label-container {\n",
       "  text-align: center;\n",
       "}\n",
       "\n",
       "/* Estimator-specific */\n",
       "#sk-container-id-6 div.sk-estimator {\n",
       "  font-family: monospace;\n",
       "  border: 1px dotted var(--sklearn-color-border-box);\n",
       "  border-radius: 0.25em;\n",
       "  box-sizing: border-box;\n",
       "  margin-bottom: 0.5em;\n",
       "  /* unfitted */\n",
       "  background-color: var(--sklearn-color-unfitted-level-0);\n",
       "}\n",
       "\n",
       "#sk-container-id-6 div.sk-estimator.fitted {\n",
       "  /* fitted */\n",
       "  background-color: var(--sklearn-color-fitted-level-0);\n",
       "}\n",
       "\n",
       "/* on hover */\n",
       "#sk-container-id-6 div.sk-estimator:hover {\n",
       "  /* unfitted */\n",
       "  background-color: var(--sklearn-color-unfitted-level-2);\n",
       "}\n",
       "\n",
       "#sk-container-id-6 div.sk-estimator.fitted:hover {\n",
       "  /* fitted */\n",
       "  background-color: var(--sklearn-color-fitted-level-2);\n",
       "}\n",
       "\n",
       "/* Specification for estimator info (e.g. \"i\" and \"?\") */\n",
       "\n",
       "/* Common style for \"i\" and \"?\" */\n",
       "\n",
       ".sk-estimator-doc-link,\n",
       "a:link.sk-estimator-doc-link,\n",
       "a:visited.sk-estimator-doc-link {\n",
       "  float: right;\n",
       "  font-size: smaller;\n",
       "  line-height: 1em;\n",
       "  font-family: monospace;\n",
       "  background-color: var(--sklearn-color-background);\n",
       "  border-radius: 1em;\n",
       "  height: 1em;\n",
       "  width: 1em;\n",
       "  text-decoration: none !important;\n",
       "  margin-left: 1ex;\n",
       "  /* unfitted */\n",
       "  border: var(--sklearn-color-unfitted-level-1) 1pt solid;\n",
       "  color: var(--sklearn-color-unfitted-level-1);\n",
       "}\n",
       "\n",
       ".sk-estimator-doc-link.fitted,\n",
       "a:link.sk-estimator-doc-link.fitted,\n",
       "a:visited.sk-estimator-doc-link.fitted {\n",
       "  /* fitted */\n",
       "  border: var(--sklearn-color-fitted-level-1) 1pt solid;\n",
       "  color: var(--sklearn-color-fitted-level-1);\n",
       "}\n",
       "\n",
       "/* On hover */\n",
       "div.sk-estimator:hover .sk-estimator-doc-link:hover,\n",
       ".sk-estimator-doc-link:hover,\n",
       "div.sk-label-container:hover .sk-estimator-doc-link:hover,\n",
       ".sk-estimator-doc-link:hover {\n",
       "  /* unfitted */\n",
       "  background-color: var(--sklearn-color-unfitted-level-3);\n",
       "  color: var(--sklearn-color-background);\n",
       "  text-decoration: none;\n",
       "}\n",
       "\n",
       "div.sk-estimator.fitted:hover .sk-estimator-doc-link.fitted:hover,\n",
       ".sk-estimator-doc-link.fitted:hover,\n",
       "div.sk-label-container:hover .sk-estimator-doc-link.fitted:hover,\n",
       ".sk-estimator-doc-link.fitted:hover {\n",
       "  /* fitted */\n",
       "  background-color: var(--sklearn-color-fitted-level-3);\n",
       "  color: var(--sklearn-color-background);\n",
       "  text-decoration: none;\n",
       "}\n",
       "\n",
       "/* Span, style for the box shown on hovering the info icon */\n",
       ".sk-estimator-doc-link span {\n",
       "  display: none;\n",
       "  z-index: 9999;\n",
       "  position: relative;\n",
       "  font-weight: normal;\n",
       "  right: .2ex;\n",
       "  padding: .5ex;\n",
       "  margin: .5ex;\n",
       "  width: min-content;\n",
       "  min-width: 20ex;\n",
       "  max-width: 50ex;\n",
       "  color: var(--sklearn-color-text);\n",
       "  box-shadow: 2pt 2pt 4pt #999;\n",
       "  /* unfitted */\n",
       "  background: var(--sklearn-color-unfitted-level-0);\n",
       "  border: .5pt solid var(--sklearn-color-unfitted-level-3);\n",
       "}\n",
       "\n",
       ".sk-estimator-doc-link.fitted span {\n",
       "  /* fitted */\n",
       "  background: var(--sklearn-color-fitted-level-0);\n",
       "  border: var(--sklearn-color-fitted-level-3);\n",
       "}\n",
       "\n",
       ".sk-estimator-doc-link:hover span {\n",
       "  display: block;\n",
       "}\n",
       "\n",
       "/* \"?\"-specific style due to the `<a>` HTML tag */\n",
       "\n",
       "#sk-container-id-6 a.estimator_doc_link {\n",
       "  float: right;\n",
       "  font-size: 1rem;\n",
       "  line-height: 1em;\n",
       "  font-family: monospace;\n",
       "  background-color: var(--sklearn-color-background);\n",
       "  border-radius: 1rem;\n",
       "  height: 1rem;\n",
       "  width: 1rem;\n",
       "  text-decoration: none;\n",
       "  /* unfitted */\n",
       "  color: var(--sklearn-color-unfitted-level-1);\n",
       "  border: var(--sklearn-color-unfitted-level-1) 1pt solid;\n",
       "}\n",
       "\n",
       "#sk-container-id-6 a.estimator_doc_link.fitted {\n",
       "  /* fitted */\n",
       "  border: var(--sklearn-color-fitted-level-1) 1pt solid;\n",
       "  color: var(--sklearn-color-fitted-level-1);\n",
       "}\n",
       "\n",
       "/* On hover */\n",
       "#sk-container-id-6 a.estimator_doc_link:hover {\n",
       "  /* unfitted */\n",
       "  background-color: var(--sklearn-color-unfitted-level-3);\n",
       "  color: var(--sklearn-color-background);\n",
       "  text-decoration: none;\n",
       "}\n",
       "\n",
       "#sk-container-id-6 a.estimator_doc_link.fitted:hover {\n",
       "  /* fitted */\n",
       "  background-color: var(--sklearn-color-fitted-level-3);\n",
       "}\n",
       "</style><div id=\"sk-container-id-6\" class=\"sk-top-container\"><div class=\"sk-text-repr-fallback\"><pre>GridSearchCV(cv=5, estimator=SVC(), n_jobs=-1,\n",
       "             param_grid={&#x27;C&#x27;: [0.01, 0.05, 0.1, 0.5, 1, 5, 10, 20, 50, 100]},\n",
       "             return_train_score=True, scoring=&#x27;accuracy&#x27;, verbose=1)</pre><b>In a Jupyter environment, please rerun this cell to show the HTML representation or trust the notebook. <br />On GitHub, the HTML representation is unable to render, please try loading this page with nbviewer.org.</b></div><div class=\"sk-container\" hidden><div class=\"sk-item sk-dashed-wrapped\"><div class=\"sk-label-container\"><div class=\"sk-label fitted sk-toggleable\"><input class=\"sk-toggleable__control sk-hidden--visually\" id=\"sk-estimator-id-16\" type=\"checkbox\" ><label for=\"sk-estimator-id-16\" class=\"sk-toggleable__label fitted sk-toggleable__label-arrow fitted\">&nbsp;&nbsp;GridSearchCV<a class=\"sk-estimator-doc-link fitted\" rel=\"noreferrer\" target=\"_blank\" href=\"https://scikit-learn.org/1.4/modules/generated/sklearn.model_selection.GridSearchCV.html\">?<span>Documentation for GridSearchCV</span></a><span class=\"sk-estimator-doc-link fitted\">i<span>Fitted</span></span></label><div class=\"sk-toggleable__content fitted\"><pre>GridSearchCV(cv=5, estimator=SVC(), n_jobs=-1,\n",
       "             param_grid={&#x27;C&#x27;: [0.01, 0.05, 0.1, 0.5, 1, 5, 10, 20, 50, 100]},\n",
       "             return_train_score=True, scoring=&#x27;accuracy&#x27;, verbose=1)</pre></div> </div></div><div class=\"sk-parallel\"><div class=\"sk-parallel-item\"><div class=\"sk-item\"><div class=\"sk-label-container\"><div class=\"sk-label fitted sk-toggleable\"><input class=\"sk-toggleable__control sk-hidden--visually\" id=\"sk-estimator-id-17\" type=\"checkbox\" ><label for=\"sk-estimator-id-17\" class=\"sk-toggleable__label fitted sk-toggleable__label-arrow fitted\">estimator: SVC</label><div class=\"sk-toggleable__content fitted\"><pre>SVC()</pre></div> </div></div><div class=\"sk-serial\"><div class=\"sk-item\"><div class=\"sk-estimator fitted sk-toggleable\"><input class=\"sk-toggleable__control sk-hidden--visually\" id=\"sk-estimator-id-18\" type=\"checkbox\" ><label for=\"sk-estimator-id-18\" class=\"sk-toggleable__label fitted sk-toggleable__label-arrow fitted\">&nbsp;SVC<a class=\"sk-estimator-doc-link fitted\" rel=\"noreferrer\" target=\"_blank\" href=\"https://scikit-learn.org/1.4/modules/generated/sklearn.svm.SVC.html\">?<span>Documentation for SVC</span></a></label><div class=\"sk-toggleable__content fitted\"><pre>SVC()</pre></div> </div></div></div></div></div></div></div></div></div>"
      ],
      "text/plain": [
       "GridSearchCV(cv=5, estimator=SVC(), n_jobs=-1,\n",
       "             param_grid={'C': [0.01, 0.05, 0.1, 0.5, 1, 5, 10, 20, 50, 100]},\n",
       "             return_train_score=True, scoring='accuracy', verbose=1)"
      ]
     },
     "execution_count": 307,
     "metadata": {},
     "output_type": "execute_result"
    }
   ],
   "source": [
    "model_2 = SVC()\n",
    "\n",
    "param = {'C': [0.01, 0.05, 0.1, 0.5, 1, 5, 10, 20, 50, 100]}\n",
    "\n",
    "gridsearchCV = GridSearchCV(estimator=model_2,\n",
    "                            param_grid=param,\n",
    "                            cv=5,\n",
    "                            scoring='accuracy',\n",
    "                            return_train_score=True, \n",
    "                            n_jobs=-1, \n",
    "                            verbose=1)\n",
    "\n",
    "gridsearchCV.fit(Xtrain, ytrain)"
   ]
  },
  {
   "cell_type": "code",
   "execution_count": 312,
   "id": "aa17569f-d0f2-4264-acf0-acc79b1bec17",
   "metadata": {},
   "outputs": [
    {
     "data": {
      "text/html": [
       "<div>\n",
       "<style scoped>\n",
       "    .dataframe tbody tr th:only-of-type {\n",
       "        vertical-align: middle;\n",
       "    }\n",
       "\n",
       "    .dataframe tbody tr th {\n",
       "        vertical-align: top;\n",
       "    }\n",
       "\n",
       "    .dataframe thead th {\n",
       "        text-align: right;\n",
       "    }\n",
       "</style>\n",
       "<table border=\"1\" class=\"dataframe\">\n",
       "  <thead>\n",
       "    <tr style=\"text-align: right;\">\n",
       "      <th></th>\n",
       "      <th>mean_fit_time</th>\n",
       "      <th>std_fit_time</th>\n",
       "      <th>mean_score_time</th>\n",
       "      <th>std_score_time</th>\n",
       "      <th>param_C</th>\n",
       "      <th>params</th>\n",
       "      <th>split0_test_score</th>\n",
       "      <th>split1_test_score</th>\n",
       "      <th>split2_test_score</th>\n",
       "      <th>split3_test_score</th>\n",
       "      <th>...</th>\n",
       "      <th>mean_test_score</th>\n",
       "      <th>std_test_score</th>\n",
       "      <th>rank_test_score</th>\n",
       "      <th>split0_train_score</th>\n",
       "      <th>split1_train_score</th>\n",
       "      <th>split2_train_score</th>\n",
       "      <th>split3_train_score</th>\n",
       "      <th>split4_train_score</th>\n",
       "      <th>mean_train_score</th>\n",
       "      <th>std_train_score</th>\n",
       "    </tr>\n",
       "  </thead>\n",
       "  <tbody>\n",
       "    <tr>\n",
       "      <th>0</th>\n",
       "      <td>0.308258</td>\n",
       "      <td>0.028687</td>\n",
       "      <td>0.151135</td>\n",
       "      <td>0.006804</td>\n",
       "      <td>0.01</td>\n",
       "      <td>{'C': 0.01}</td>\n",
       "      <td>0.624224</td>\n",
       "      <td>0.624224</td>\n",
       "      <td>0.621118</td>\n",
       "      <td>0.625776</td>\n",
       "      <td>...</td>\n",
       "      <td>0.623602</td>\n",
       "      <td>0.001584</td>\n",
       "      <td>10</td>\n",
       "      <td>0.624612</td>\n",
       "      <td>0.625388</td>\n",
       "      <td>0.625776</td>\n",
       "      <td>0.619565</td>\n",
       "      <td>0.625000</td>\n",
       "      <td>0.624068</td>\n",
       "      <td>0.002285</td>\n",
       "    </tr>\n",
       "    <tr>\n",
       "      <th>1</th>\n",
       "      <td>0.221695</td>\n",
       "      <td>0.016342</td>\n",
       "      <td>0.109986</td>\n",
       "      <td>0.010653</td>\n",
       "      <td>0.05</td>\n",
       "      <td>{'C': 0.05}</td>\n",
       "      <td>0.881988</td>\n",
       "      <td>0.872671</td>\n",
       "      <td>0.878882</td>\n",
       "      <td>0.892857</td>\n",
       "      <td>...</td>\n",
       "      <td>0.882609</td>\n",
       "      <td>0.006846</td>\n",
       "      <td>9</td>\n",
       "      <td>0.889363</td>\n",
       "      <td>0.887422</td>\n",
       "      <td>0.885870</td>\n",
       "      <td>0.883540</td>\n",
       "      <td>0.883540</td>\n",
       "      <td>0.885947</td>\n",
       "      <td>0.002256</td>\n",
       "    </tr>\n",
       "    <tr>\n",
       "      <th>2</th>\n",
       "      <td>0.164395</td>\n",
       "      <td>0.021738</td>\n",
       "      <td>0.249703</td>\n",
       "      <td>0.315308</td>\n",
       "      <td>0.1</td>\n",
       "      <td>{'C': 0.1}</td>\n",
       "      <td>0.891304</td>\n",
       "      <td>0.888199</td>\n",
       "      <td>0.900621</td>\n",
       "      <td>0.906832</td>\n",
       "      <td>...</td>\n",
       "      <td>0.897826</td>\n",
       "      <td>0.006972</td>\n",
       "      <td>8</td>\n",
       "      <td>0.906444</td>\n",
       "      <td>0.906832</td>\n",
       "      <td>0.901398</td>\n",
       "      <td>0.903727</td>\n",
       "      <td>0.905668</td>\n",
       "      <td>0.904814</td>\n",
       "      <td>0.002016</td>\n",
       "    </tr>\n",
       "    <tr>\n",
       "      <th>3</th>\n",
       "      <td>0.117107</td>\n",
       "      <td>0.024661</td>\n",
       "      <td>0.064522</td>\n",
       "      <td>0.005432</td>\n",
       "      <td>0.5</td>\n",
       "      <td>{'C': 0.5}</td>\n",
       "      <td>0.913043</td>\n",
       "      <td>0.922360</td>\n",
       "      <td>0.933230</td>\n",
       "      <td>0.928571</td>\n",
       "      <td>...</td>\n",
       "      <td>0.922671</td>\n",
       "      <td>0.007505</td>\n",
       "      <td>5</td>\n",
       "      <td>0.940994</td>\n",
       "      <td>0.934783</td>\n",
       "      <td>0.935947</td>\n",
       "      <td>0.932453</td>\n",
       "      <td>0.934783</td>\n",
       "      <td>0.935792</td>\n",
       "      <td>0.002838</td>\n",
       "    </tr>\n",
       "    <tr>\n",
       "      <th>4</th>\n",
       "      <td>0.144892</td>\n",
       "      <td>0.018328</td>\n",
       "      <td>0.061593</td>\n",
       "      <td>0.003183</td>\n",
       "      <td>1</td>\n",
       "      <td>{'C': 1}</td>\n",
       "      <td>0.917702</td>\n",
       "      <td>0.925466</td>\n",
       "      <td>0.927019</td>\n",
       "      <td>0.931677</td>\n",
       "      <td>...</td>\n",
       "      <td>0.926087</td>\n",
       "      <td>0.004669</td>\n",
       "      <td>2</td>\n",
       "      <td>0.945652</td>\n",
       "      <td>0.943323</td>\n",
       "      <td>0.942158</td>\n",
       "      <td>0.941382</td>\n",
       "      <td>0.941382</td>\n",
       "      <td>0.942780</td>\n",
       "      <td>0.001602</td>\n",
       "    </tr>\n",
       "    <tr>\n",
       "      <th>5</th>\n",
       "      <td>0.121842</td>\n",
       "      <td>0.015279</td>\n",
       "      <td>0.048364</td>\n",
       "      <td>0.005128</td>\n",
       "      <td>5</td>\n",
       "      <td>{'C': 5}</td>\n",
       "      <td>0.919255</td>\n",
       "      <td>0.928571</td>\n",
       "      <td>0.919255</td>\n",
       "      <td>0.934783</td>\n",
       "      <td>...</td>\n",
       "      <td>0.927019</td>\n",
       "      <td>0.006661</td>\n",
       "      <td>1</td>\n",
       "      <td>0.960792</td>\n",
       "      <td>0.956910</td>\n",
       "      <td>0.962345</td>\n",
       "      <td>0.957686</td>\n",
       "      <td>0.956134</td>\n",
       "      <td>0.958773</td>\n",
       "      <td>0.002385</td>\n",
       "    </tr>\n",
       "    <tr>\n",
       "      <th>6</th>\n",
       "      <td>0.124366</td>\n",
       "      <td>0.015328</td>\n",
       "      <td>0.049667</td>\n",
       "      <td>0.002641</td>\n",
       "      <td>10</td>\n",
       "      <td>{'C': 10}</td>\n",
       "      <td>0.922360</td>\n",
       "      <td>0.928571</td>\n",
       "      <td>0.916149</td>\n",
       "      <td>0.933230</td>\n",
       "      <td>...</td>\n",
       "      <td>0.926087</td>\n",
       "      <td>0.006102</td>\n",
       "      <td>2</td>\n",
       "      <td>0.967003</td>\n",
       "      <td>0.966615</td>\n",
       "      <td>0.969332</td>\n",
       "      <td>0.964286</td>\n",
       "      <td>0.963898</td>\n",
       "      <td>0.966227</td>\n",
       "      <td>0.001979</td>\n",
       "    </tr>\n",
       "    <tr>\n",
       "      <th>7</th>\n",
       "      <td>0.126406</td>\n",
       "      <td>0.010412</td>\n",
       "      <td>0.049389</td>\n",
       "      <td>0.002546</td>\n",
       "      <td>20</td>\n",
       "      <td>{'C': 20}</td>\n",
       "      <td>0.922360</td>\n",
       "      <td>0.930124</td>\n",
       "      <td>0.911491</td>\n",
       "      <td>0.928571</td>\n",
       "      <td>...</td>\n",
       "      <td>0.924224</td>\n",
       "      <td>0.006903</td>\n",
       "      <td>4</td>\n",
       "      <td>0.978261</td>\n",
       "      <td>0.975155</td>\n",
       "      <td>0.977484</td>\n",
       "      <td>0.977096</td>\n",
       "      <td>0.972826</td>\n",
       "      <td>0.976165</td>\n",
       "      <td>0.001958</td>\n",
       "    </tr>\n",
       "    <tr>\n",
       "      <th>8</th>\n",
       "      <td>0.155060</td>\n",
       "      <td>0.017446</td>\n",
       "      <td>0.046672</td>\n",
       "      <td>0.000582</td>\n",
       "      <td>50</td>\n",
       "      <td>{'C': 50}</td>\n",
       "      <td>0.913043</td>\n",
       "      <td>0.928571</td>\n",
       "      <td>0.917702</td>\n",
       "      <td>0.920807</td>\n",
       "      <td>...</td>\n",
       "      <td>0.921118</td>\n",
       "      <td>0.005503</td>\n",
       "      <td>6</td>\n",
       "      <td>0.984084</td>\n",
       "      <td>0.981366</td>\n",
       "      <td>0.984860</td>\n",
       "      <td>0.982531</td>\n",
       "      <td>0.982143</td>\n",
       "      <td>0.982997</td>\n",
       "      <td>0.001285</td>\n",
       "    </tr>\n",
       "    <tr>\n",
       "      <th>9</th>\n",
       "      <td>0.156967</td>\n",
       "      <td>0.018580</td>\n",
       "      <td>0.040161</td>\n",
       "      <td>0.004923</td>\n",
       "      <td>100</td>\n",
       "      <td>{'C': 100}</td>\n",
       "      <td>0.905280</td>\n",
       "      <td>0.930124</td>\n",
       "      <td>0.919255</td>\n",
       "      <td>0.911491</td>\n",
       "      <td>...</td>\n",
       "      <td>0.918323</td>\n",
       "      <td>0.009033</td>\n",
       "      <td>7</td>\n",
       "      <td>0.988354</td>\n",
       "      <td>0.986025</td>\n",
       "      <td>0.988742</td>\n",
       "      <td>0.986801</td>\n",
       "      <td>0.986801</td>\n",
       "      <td>0.987345</td>\n",
       "      <td>0.001030</td>\n",
       "    </tr>\n",
       "  </tbody>\n",
       "</table>\n",
       "<p>10 rows × 21 columns</p>\n",
       "</div>"
      ],
      "text/plain": [
       "   mean_fit_time  std_fit_time  mean_score_time  std_score_time param_C  \\\n",
       "0       0.308258      0.028687         0.151135        0.006804    0.01   \n",
       "1       0.221695      0.016342         0.109986        0.010653    0.05   \n",
       "2       0.164395      0.021738         0.249703        0.315308     0.1   \n",
       "3       0.117107      0.024661         0.064522        0.005432     0.5   \n",
       "4       0.144892      0.018328         0.061593        0.003183       1   \n",
       "5       0.121842      0.015279         0.048364        0.005128       5   \n",
       "6       0.124366      0.015328         0.049667        0.002641      10   \n",
       "7       0.126406      0.010412         0.049389        0.002546      20   \n",
       "8       0.155060      0.017446         0.046672        0.000582      50   \n",
       "9       0.156967      0.018580         0.040161        0.004923     100   \n",
       "\n",
       "        params  split0_test_score  split1_test_score  split2_test_score  \\\n",
       "0  {'C': 0.01}           0.624224           0.624224           0.621118   \n",
       "1  {'C': 0.05}           0.881988           0.872671           0.878882   \n",
       "2   {'C': 0.1}           0.891304           0.888199           0.900621   \n",
       "3   {'C': 0.5}           0.913043           0.922360           0.933230   \n",
       "4     {'C': 1}           0.917702           0.925466           0.927019   \n",
       "5     {'C': 5}           0.919255           0.928571           0.919255   \n",
       "6    {'C': 10}           0.922360           0.928571           0.916149   \n",
       "7    {'C': 20}           0.922360           0.930124           0.911491   \n",
       "8    {'C': 50}           0.913043           0.928571           0.917702   \n",
       "9   {'C': 100}           0.905280           0.930124           0.919255   \n",
       "\n",
       "   split3_test_score  ...  mean_test_score  std_test_score  rank_test_score  \\\n",
       "0           0.625776  ...         0.623602        0.001584               10   \n",
       "1           0.892857  ...         0.882609        0.006846                9   \n",
       "2           0.906832  ...         0.897826        0.006972                8   \n",
       "3           0.928571  ...         0.922671        0.007505                5   \n",
       "4           0.931677  ...         0.926087        0.004669                2   \n",
       "5           0.934783  ...         0.927019        0.006661                1   \n",
       "6           0.933230  ...         0.926087        0.006102                2   \n",
       "7           0.928571  ...         0.924224        0.006903                4   \n",
       "8           0.920807  ...         0.921118        0.005503                6   \n",
       "9           0.911491  ...         0.918323        0.009033                7   \n",
       "\n",
       "   split0_train_score  split1_train_score  split2_train_score  \\\n",
       "0            0.624612            0.625388            0.625776   \n",
       "1            0.889363            0.887422            0.885870   \n",
       "2            0.906444            0.906832            0.901398   \n",
       "3            0.940994            0.934783            0.935947   \n",
       "4            0.945652            0.943323            0.942158   \n",
       "5            0.960792            0.956910            0.962345   \n",
       "6            0.967003            0.966615            0.969332   \n",
       "7            0.978261            0.975155            0.977484   \n",
       "8            0.984084            0.981366            0.984860   \n",
       "9            0.988354            0.986025            0.988742   \n",
       "\n",
       "   split3_train_score  split4_train_score  mean_train_score  std_train_score  \n",
       "0            0.619565            0.625000          0.624068         0.002285  \n",
       "1            0.883540            0.883540          0.885947         0.002256  \n",
       "2            0.903727            0.905668          0.904814         0.002016  \n",
       "3            0.932453            0.934783          0.935792         0.002838  \n",
       "4            0.941382            0.941382          0.942780         0.001602  \n",
       "5            0.957686            0.956134          0.958773         0.002385  \n",
       "6            0.964286            0.963898          0.966227         0.001979  \n",
       "7            0.977096            0.972826          0.976165         0.001958  \n",
       "8            0.982531            0.982143          0.982997         0.001285  \n",
       "9            0.986801            0.986801          0.987345         0.001030  \n",
       "\n",
       "[10 rows x 21 columns]"
      ]
     },
     "execution_count": 312,
     "metadata": {},
     "output_type": "execute_result"
    }
   ],
   "source": [
    "cv_results_df = pd.DataFrame(gridsearchCV.cv_results_)\n",
    "cv_results_df"
   ]
  },
  {
   "cell_type": "code",
   "execution_count": 313,
   "id": "177d93fc-0125-4a0e-9e06-e4db8c754010",
   "metadata": {},
   "outputs": [
    {
     "data": {
      "text/plain": [
       "Index(['mean_fit_time', 'std_fit_time', 'mean_score_time', 'std_score_time',\n",
       "       'param_C', 'params', 'split0_test_score', 'split1_test_score',\n",
       "       'split2_test_score', 'split3_test_score', 'split4_test_score',\n",
       "       'mean_test_score', 'std_test_score', 'rank_test_score',\n",
       "       'split0_train_score', 'split1_train_score', 'split2_train_score',\n",
       "       'split3_train_score', 'split4_train_score', 'mean_train_score',\n",
       "       'std_train_score'],\n",
       "      dtype='object')"
      ]
     },
     "execution_count": 313,
     "metadata": {},
     "output_type": "execute_result"
    }
   ],
   "source": [
    "cv_results_df.columns"
   ]
  },
  {
   "cell_type": "code",
   "execution_count": 314,
   "id": "d76ec5b6-3970-4959-b171-8993c3bc5aa9",
   "metadata": {},
   "outputs": [
    {
     "data": {
      "text/plain": [
       "{'C': 5}"
      ]
     },
     "execution_count": 314,
     "metadata": {},
     "output_type": "execute_result"
    }
   ],
   "source": [
    "gridsearchCV.best_params_"
   ]
  },
  {
   "cell_type": "markdown",
   "id": "ef665a0b-9152-42c5-95b7-77c4533ce69c",
   "metadata": {},
   "source": [
    "We can see that the best value for C is 5 so let's build our SVC with a C value of 0.01."
   ]
  },
  {
   "cell_type": "code",
   "execution_count": 316,
   "id": "b1ccf3d0-833f-4968-af84-3845464ce7db",
   "metadata": {},
   "outputs": [
    {
     "data": {
      "image/png": "[encoded data removed]",
      "text/plain": [
       "<Figure size 800x600 with 1 Axes>"
      ]
     },
     "metadata": {},
     "output_type": "display_data"
    }
   ],
   "source": [
    "plt.figure(figsize=[8,6])\n",
    "\n",
    "plt.plot(cv_results_df['param_C'], cv_results_df['mean_test_score'], marker='o')\n",
    "plt.plot(cv_results_df['param_C'], cv_results_df['mean_train_score'], marker='x')\n",
    "\n",
    "plt.xlabel('C ->')\n",
    "plt.ylabel('Accuracy ->')\n",
    "\n",
    "plt.legend(['test_accuracy', 'train_accuracy'], loc='upper left')\n",
    "\n",
    "plt.xscale('log')\n",
    "plt.grid()"
   ]
  },
  {
   "cell_type": "markdown",
   "id": "7d6800fc-52dd-4909-a81a-c06703f6392d",
   "metadata": {},
   "source": [
    "Although the training accuracy monotonically increases with C, the test accuracy gradually starts reducing. \n",
    "- Thus, we can conclude that higher values of C tend to overfit the model. This is because a high C value aims to classify all training examples correctly (since C is the cost of misclassification - if we impose a high cost on the model, it will avoid misclassifying any points by overfitting the data)."
   ]
  },
  {
   "cell_type": "markdown",
   "id": "7241d890-4596-40ab-9862-e4d269bc4461",
   "metadata": {},
   "source": [
    "### Now let's build the final SVC model with C=5:\n"
   ]
  },
  {
   "cell_type": "code",
   "execution_count": 319,
   "id": "b3cb5110-d35b-480a-8a86-73e263d8ac9c",
   "metadata": {},
   "outputs": [
    {
     "data": {
      "text/plain": [
       "{'C': 5}"
      ]
     },
     "execution_count": 319,
     "metadata": {},
     "output_type": "execute_result"
    }
   ],
   "source": [
    "gridsearchCV.best_params_"
   ]
  },
  {
   "cell_type": "code",
   "execution_count": 320,
   "id": "7f3b23d3-bbef-4f32-8148-dfa87b33b155",
   "metadata": {},
   "outputs": [],
   "source": [
    "model_3 = SVC(C=5)\n",
    "\n",
    "model_3.fit(Xtrain, ytrain)\n",
    "ypred_train_3 = model_3.predict(Xtrain)\n",
    "ypred_test_3 = model_3.predict(Xtest)"
   ]
  },
  {
   "cell_type": "code",
   "execution_count": 321,
   "id": "6d733bcb-d01e-4814-b967-eeb7f8ab76c0",
   "metadata": {},
   "outputs": [
    {
     "data": {
      "text/plain": [
       "<sklearn.metrics._plot.confusion_matrix.ConfusionMatrixDisplay at 0x2e54259a060>"
      ]
     },
     "execution_count": 321,
     "metadata": {},
     "output_type": "execute_result"
    },
    {
     "data": {
      "image/png": "[encoded data removed]",
      "text/plain": [
       "<Figure size 640x480 with 2 Axes>"
      ]
     },
     "metadata": {},
     "output_type": "display_data"
    }
   ],
   "source": [
    "cm_3 = confusion_matrix(ytest, ypred_test_3)\n",
    "ConfusionMatrixDisplay(cm_3).plot()"
   ]
  },
  {
   "cell_type": "code",
   "execution_count": 322,
   "id": "8f286406-b20c-4e31-a03d-8edee82034b0",
   "metadata": {},
   "outputs": [
    {
     "data": {
      "text/plain": [
       "0.965"
      ]
     },
     "execution_count": 322,
     "metadata": {},
     "output_type": "execute_result"
    }
   ],
   "source": [
    "TN, TP, FN, FP = cm_3[0,0], cm_3[1,1], cm_3[1,0], cm_3[0,1]\n",
    "\n",
    "specificity = round(TN/(TN+FP), 3)\n",
    "specificity"
   ]
  },
  {
   "cell_type": "code",
   "execution_count": 323,
   "id": "113266cf-717e-415f-88a6-cc9f730fd868",
   "metadata": {},
   "outputs": [
    {
     "name": "stdout",
     "output_type": "stream",
     "text": [
      "Train Accuracy: 0.957.\n",
      "Test Accuracy: 0.942.\n",
      "\n",
      "\n",
      "Sensitivity/tpr/Recall: 0.91.\n",
      "Specificity/tnr: 0.965\n",
      "Precision/ppv: 0.949.\n"
     ]
    }
   ],
   "source": [
    "print(f\"Train Accuracy: {round(accuracy_score(ytrain, ypred_train_3), 3)}.\")\n",
    "print(f\"Test Accuracy: {round(accuracy_score(ytest, ypred_test_3), 3)}.\")\n",
    "print('\\n')\n",
    "print(f\"Sensitivity/tpr/Recall: {round(recall_score(ytest, ypred_test_3), 3)}.\")\n",
    "print(f\"Specificity/tnr: {specificity}\")\n",
    "print(f\"Precision/ppv: {round(precision_score(ytest, ypred_test_3), 3)}.\")"
   ]
  },
  {
   "cell_type": "markdown",
   "id": "c8fd1269-a218-4f7b-8f01-281d38e1d93e",
   "metadata": {},
   "source": [
    "### Optimising for Other Evaluation Metrics:\n",
    "\n",
    "\r\n",
    "In this case, we had optimised (tuned) the model based on overall accuracy, though that may not always be the best metric to optimise. For example, ifweu are concerned more about catching all spams (positives), you may want to maximise TPR or sensitivity/recall. If, on the other hand, you want to avoid classifying hams as spams (so that any important mails don't get into the spam box),weu would maximise the TN/Sspecificit or precisiony."
   ]
  },
  {
   "cell_type": "code",
   "execution_count": 325,
   "id": "8bcc8f2b-f938-4b0c-8e1c-e472083f0633",
   "metadata": {},
   "outputs": [
    {
     "name": "stdout",
     "output_type": "stream",
     "text": [
      "# Tuning hyper-parameters for accuracy\n",
      " The highest accuracy score is 0.927639751552795 at C = {'C': 10}\n",
      "\n",
      "\n",
      "# Tuning hyper-parameters for precision\n",
      " The highest precision score is 0.9367473261769874 at C = {'C': 0.1}\n",
      "\n",
      "\n",
      "# Tuning hyper-parameters for recall\n",
      " The highest recall score is 0.885707570100412 at C = {'C': 10}\n",
      "\n",
      "\n"
     ]
    }
   ],
   "source": [
    "# specify params\n",
    "params = {\"C\": [0.001, 0.005, 0.1, 1, 10, 100, 1000]}\n",
    "\n",
    "# specify scores/metrics in an iterable\n",
    "scores = ['accuracy', 'precision', 'recall']\n",
    "\n",
    "for score in scores:\n",
    "    print(\"# Tuning hyper-parameters for {}\".format(score))\n",
    "    \n",
    "    # set up GridSearch for score metric\n",
    "    clf = GridSearchCV(SVC(), \n",
    "                       params, \n",
    "                       cv=folds,\n",
    "                       scoring=score,\n",
    "                       return_train_score=True)\n",
    "    # fit\n",
    "    clf.fit(Xtrain, ytrain)\n",
    "\n",
    "    print(\" The highest {0} score is {1} at C = {2}\".format(score, clf.best_score_, clf.best_params_))\n",
    "    print(\"\\n\")"
   ]
  },
  {
   "cell_type": "markdown",
   "id": "ab375c35-0de1-4e96-ac91-77b0c73fefb3",
   "metadata": {},
   "source": [
    "Thus, we can see that the optimal value of the hyperparameter varies significantly with the choice of evaluation metric."
   ]
  },
  {
   "cell_type": "code",
   "execution_count": null,
   "id": "d252edd9-51fd-4902-be92-5f8e9dbf1a54",
   "metadata": {},
   "outputs": [],
   "source": []
  }
 ],
 "metadata": {
  "kernelspec": {
   "display_name": "Python 3 (ipykernel)",
   "language": "python",
   "name": "python3"
  },
  "language_info": {
   "codemirror_mode": {
    "name": "ipython",
    "version": 3
   },
   "file_extension": ".py",
   "mimetype": "text/x-python",
   "name": "python",
   "nbconvert_exporter": "python",
   "pygments_lexer": "ipython3",
   "version": "3.12.4"
  }
 },
 "nbformat": 4,
 "nbformat_minor": 5
}
